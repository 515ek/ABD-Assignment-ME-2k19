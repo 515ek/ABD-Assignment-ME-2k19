{
 "cells": [
  {
   "cell_type": "code",
   "execution_count": 1,
   "metadata": {},
   "outputs": [],
   "source": [
    "from mrjob.job import MRJob"
   ]
  },
  {
   "cell_type": "code",
   "execution_count": 2,
   "metadata": {},
   "outputs": [],
   "source": [
    "class MRmyjob(MRJob):\n",
    "    def mapper(self,_,line):\n",
    "        #split the line with tab separated fields\n",
    "        data = line.split(',')\n",
    "        hofid = data[0].strip()\n",
    "        year = data[1].strip()\n",
    "        votes = data[5].strip()\n",
    "        if hofid == 'chancfr01h':\n",
    "            try:\n",
    "                yield year,int(votes)\n",
    "            except:\n",
    "                yield year,0\n",
    "\n",
    "    def reducer(self, key, list_of_values):\n",
    "        yield key,sum(list_of_values)"
   ]
  },
  {
   "cell_type": "code",
   "execution_count": null,
   "metadata": {},
   "outputs": [],
   "source": []
  }
 ],
 "metadata": {
  "kernelspec": {
   "display_name": "Python 3",
   "language": "python",
   "name": "python3"
  },
  "language_info": {
   "codemirror_mode": {
    "name": "ipython",
    "version": 3
   },
   "file_extension": ".py",
   "mimetype": "text/x-python",
   "name": "python",
   "nbconvert_exporter": "python",
   "pygments_lexer": "ipython3",
   "version": "3.6.7"
  }
 },
 "nbformat": 4,
 "nbformat_minor": 2
}
